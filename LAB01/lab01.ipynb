{
 "cells": [
  {
   "cell_type": "code",
   "execution_count": 1,
   "metadata": {},
   "outputs": [
    {
     "name": "stdout",
     "output_type": "stream",
     "text": [
      "<class 'pyspark.rdd.RDD'>\n"
     ]
    }
   ],
   "source": [
    "ListaPalavras = ['gato', 'elefante', 'rato', 'rato', 'gato']\n",
    "palavrasRDD = sc.parallelize(ListaPalavras, 4)\n",
    "print(type(palavrasRDD))"
   ]
  },
  {
   "cell_type": "code",
   "execution_count": 3,
   "metadata": {},
   "outputs": [
    {
     "name": "stdout",
     "output_type": "stream",
     "text": [
      "gatos\n"
     ]
    }
   ],
   "source": [
    "def Plural(palavra):\n",
    "    \"\"\"Adds an 's' to `palavra`.\n",
    "    \n",
    "    Args:\n",
    "        palavra (str): A string.\n",
    "        \n",
    "    Returns:\n",
    "        str: A string with 's' added to it.\n",
    "    \"\"\"\n",
    "    return '{}s'.format(palavra)\n",
    "\n",
    "print(Plural('gato'))"
   ]
  },
  {
   "cell_type": "code",
   "execution_count": 4,
   "metadata": {},
   "outputs": [
    {
     "name": "stdout",
     "output_type": "stream",
     "text": [
      "Help on function Plural in module __main__:\n",
      "\n",
      "Plural(palavra)\n",
      "    Adds an 's' to `palavra`.\n",
      "    \n",
      "    Args:\n",
      "        palavra (str): A string.\n",
      "        \n",
      "    Returns:\n",
      "        str: A string with 's' added to it.\n",
      "\n"
     ]
    }
   ],
   "source": [
    "help(Plural)"
   ]
  },
  {
   "cell_type": "code",
   "execution_count": 5,
   "metadata": {},
   "outputs": [
    {
     "name": "stdout",
     "output_type": "stream",
     "text": [
      "OK\n"
     ]
    }
   ],
   "source": [
    "assert Plural('rato') == 'ratos', 'resultado incorreto!'\n",
    "print('OK')"
   ]
  },
  {
   "cell_type": "code",
   "execution_count": 8,
   "metadata": {},
   "outputs": [
    {
     "name": "stdout",
     "output_type": "stream",
     "text": [
      "['gatos', 'elefantes', 'ratos', 'ratos', 'gatos']\n"
     ]
    }
   ],
   "source": [
    "pluralRDD = palavrasRDD.map(Plural)\n",
    "print(pluralRDD.collect())"
   ]
  },
  {
   "cell_type": "code",
   "execution_count": 10,
   "metadata": {},
   "outputs": [
    {
     "name": "stdout",
     "output_type": "stream",
     "text": [
      "OK\n"
     ]
    }
   ],
   "source": [
    "assert pluralRDD.collect()==['gatos','elefantes','ratos','ratos','gatos'],'valores incorretos!'\n",
    "print('OK')"
   ]
  },
  {
   "cell_type": "code",
   "execution_count": 11,
   "metadata": {},
   "outputs": [
    {
     "name": "stdout",
     "output_type": "stream",
     "text": [
      "['gatos', 'elefantes', 'ratos', 'ratos', 'gatos']\n"
     ]
    }
   ],
   "source": [
    "pluralLambdaRDD = palavrasRDD.map(lambda x:'{}s'.format(x))\n",
    "print(pluralLambdaRDD.collect())"
   ]
  },
  {
   "cell_type": "code",
   "execution_count": 12,
   "metadata": {},
   "outputs": [
    {
     "name": "stdout",
     "output_type": "stream",
     "text": [
      "OK\n"
     ]
    }
   ],
   "source": [
    "assert pluralLambdaRDD.collect()==['gatos','elefantes','ratos','ratos','gatos'],'valores incorretos!'\n",
    "print('OK')"
   ]
  },
  {
   "cell_type": "code",
   "execution_count": 13,
   "metadata": {},
   "outputs": [
    {
     "name": "stdout",
     "output_type": "stream",
     "text": [
      "[5, 9, 5, 5, 5]\n"
     ]
    }
   ],
   "source": [
    "pluralTamanho = (pluralRDD.map(lambda x:len(x)).collect())\n",
    "print(pluralTamanho)"
   ]
  },
  {
   "cell_type": "code",
   "execution_count": 14,
   "metadata": {},
   "outputs": [
    {
     "name": "stdout",
     "output_type": "stream",
     "text": [
      "OK\n"
     ]
    }
   ],
   "source": [
    "assert pluralTamanho==[5,9,5,5,5], 'valores incorretos'\n",
    "print (\"OK\")"
   ]
  },
  {
   "cell_type": "code",
   "execution_count": 15,
   "metadata": {
    "scrolled": false
   },
   "outputs": [
    {
     "name": "stdout",
     "output_type": "stream",
     "text": [
      "[('gato', 1), ('elefante', 1), ('rato', 1), ('rato', 1), ('gato', 1)]\n"
     ]
    }
   ],
   "source": [
    "palavraPar = palavrasRDD.map(lambda x:(x,1))\n",
    "print(palavraPar.collect())"
   ]
  },
  {
   "cell_type": "code",
   "execution_count": 16,
   "metadata": {},
   "outputs": [
    {
     "name": "stdout",
     "output_type": "stream",
     "text": [
      "OK\n"
     ]
    }
   ],
   "source": [
    "assert palavraPar.collect() == [('gato',1),('elefante',1),('rato',1),('rato',1),('gato',1)], 'valores incorretos!'\n",
    "print (\"OK\")"
   ]
  },
  {
   "cell_type": "code",
   "execution_count": 25,
   "metadata": {},
   "outputs": [
    {
     "name": "stdout",
     "output_type": "stream",
     "text": [
      "rato: [1, 1]\n",
      "elefante: [1]\n",
      "gato: [1, 1]\n"
     ]
    }
   ],
   "source": [
    "palavrasGrupo = palavraPar.groupByKey()\n",
    "for chave, valor in palavrasGrupo.collect():\n",
    "    valores = list(valor)\n",
    "    print('{}: {}'.format(chave, valores))"
   ]
  },
  {
   "cell_type": "code",
   "execution_count": 26,
   "metadata": {},
   "outputs": [
    {
     "name": "stdout",
     "output_type": "stream",
     "text": [
      "OK\n"
     ]
    }
   ],
   "source": [
    "assert sorted(palavrasGrupo.mapValues(lambda x: list(x)).collect()) == [('elefante', [1]), ('gato',[1, 1]), ('rato',[1, 1])], 'Valores incorretos!'\n",
    "print (\"OK\")"
   ]
  },
  {
   "cell_type": "code",
   "execution_count": 49,
   "metadata": {},
   "outputs": [
    {
     "name": "stdout",
     "output_type": "stream",
     "text": [
      "[('rato', 2), ('elefante', 1), ('gato', 2)]\n"
     ]
    }
   ],
   "source": [
    "contagemGroup = palavrasGrupo.map(lambda x:(x[0],sum(x[1])))\n",
    "print(contagemGroup.collect())"
   ]
  },
  {
   "cell_type": "code",
   "execution_count": 50,
   "metadata": {},
   "outputs": [
    {
     "name": "stdout",
     "output_type": "stream",
     "text": [
      "OK\n"
     ]
    }
   ],
   "source": [
    "assert sorted(contagemGroup.collect())==[('elefante',1), ('gato',2), ('rato',2)], 'valores incorretos!'\n",
    "print (\"OK\")"
   ]
  },
  {
   "cell_type": "code",
   "execution_count": 95,
   "metadata": {},
   "outputs": [
    {
     "name": "stdout",
     "output_type": "stream",
     "text": [
      "[('rato', 2), ('elefante', 1), ('gato', 2)]\n"
     ]
    }
   ],
   "source": [
    "contagem = palavraPar.reduceByKey(lambda x,y:x+y)\n",
    "print(contagem.collect())"
   ]
  },
  {
   "cell_type": "code",
   "execution_count": 96,
   "metadata": {},
   "outputs": [
    {
     "name": "stdout",
     "output_type": "stream",
     "text": [
      "OK\n"
     ]
    }
   ],
   "source": [
    "assert sorted(contagem.collect())==[('elefante',1), ('gato',2), ('rato',2)], 'valores incorretos!'\n",
    "print (\"OK\")"
   ]
  },
  {
   "cell_type": "code",
   "execution_count": 97,
   "metadata": {},
   "outputs": [
    {
     "name": "stdout",
     "output_type": "stream",
     "text": [
      "[('rato', 2), ('elefante', 1), ('gato', 2)]\n"
     ]
    }
   ],
   "source": [
    "contagemFinal = (palavrasRDD\n",
    "                 .map(lambda x:(x,1))\n",
    "                 .reduceByKey(lambda x,y:x+y))\n",
    "print(contagemFinal.collect())"
   ]
  },
  {
   "cell_type": "code",
   "execution_count": 98,
   "metadata": {},
   "outputs": [
    {
     "name": "stdout",
     "output_type": "stream",
     "text": [
      "OK\n"
     ]
    }
   ],
   "source": [
    "assert sorted(contagemFinal.collect())==[('elefante',1), ('gato',2), ('rato',2)], 'valores incorretos!'\n",
    "print (\"OK\")"
   ]
  },
  {
   "cell_type": "code",
   "execution_count": 99,
   "metadata": {},
   "outputs": [
    {
     "name": "stdout",
     "output_type": "stream",
     "text": [
      "3\n"
     ]
    }
   ],
   "source": [
    "palavrasUnicas = (contagemFinal\n",
    "                  .count()\n",
    "                 )\n",
    "print(palavrasUnicas)"
   ]
  },
  {
   "cell_type": "code",
   "execution_count": 100,
   "metadata": {},
   "outputs": [
    {
     "name": "stdout",
     "output_type": "stream",
     "text": [
      "OK\n"
     ]
    }
   ],
   "source": [
    "assert palavrasUnicas==3, 'valor incorreto!'\n",
    "print (\"OK\")"
   ]
  },
  {
   "cell_type": "code",
   "execution_count": 103,
   "metadata": {},
   "outputs": [
    {
     "name": "stdout",
     "output_type": "stream",
     "text": [
      "5\n",
      "1.67\n"
     ]
    }
   ],
   "source": [
    "total = (contagemFinal\n",
    "        .map(lambda x:x[1])\n",
    "        .reduce(lambda x,y:x+y)\n",
    "        )\n",
    "media = total / float(palavrasUnicas)\n",
    "print(total)\n",
    "print(round(media, 2))"
   ]
  },
  {
   "cell_type": "code",
   "execution_count": 104,
   "metadata": {},
   "outputs": [
    {
     "name": "stdout",
     "output_type": "stream",
     "text": [
      "OK\n"
     ]
    }
   ],
   "source": [
    "assert round(media, 2)==1.67, 'valores incorretos!'\n",
    "print (\"OK\")"
   ]
  },
  {
   "cell_type": "code",
   "execution_count": 105,
   "metadata": {},
   "outputs": [
    {
     "name": "stdout",
     "output_type": "stream",
     "text": [
      "[('rato', 2), ('elefante', 1), ('gato', 2)]\n"
     ]
    }
   ],
   "source": [
    "def contaPalavras(chavesRDD):\n",
    "    \"\"\"Creates a pair RDD witht word counts from an RDD of words.\n",
    "    \n",
    "    Args:\n",
    "        chavesRDD (RDD of str): An RDD consisting of words.\n",
    "    \n",
    "    Returns:\n",
    "        RDD of (str, int): An RDD consisting of (word, count) tuples.\n",
    "    \"\"\"\n",
    "    return (chavesRDD\n",
    "           .map(lambda x:(x,1))\n",
    "           .reduceByKey(lambda x,y:x+y)\n",
    "           )\n",
    "\n",
    "print(contaPalavras(palavrasRDD).collect())"
   ]
  },
  {
   "cell_type": "code",
   "execution_count": 106,
   "metadata": {},
   "outputs": [
    {
     "name": "stdout",
     "output_type": "stream",
     "text": [
      "OK\n"
     ]
    }
   ],
   "source": [
    "assert sorted(contaPalavras(palavrasRDD).collect())==[('elefante',1), ('gato',2), ('rato',2)], 'valores incorretos!'\n",
    "print (\"OK\")"
   ]
  },
  {
   "cell_type": "code",
   "execution_count": 107,
   "metadata": {},
   "outputs": [
    {
     "name": "stdout",
     "output_type": "stream",
     "text": [
      "ola quem esta ai\n",
      "sem espaco esublinhado\n"
     ]
    }
   ],
   "source": [
    "import re\n",
    "def removerPontuacao(texto):\n",
    "    \"\"\"Removes punctuation, changes to lower case, and strips leading and trailing spaces.\n",
    "\n",
    "    Note:\n",
    "        Only spaces, letters, and numbers should be retained.  Other characters should should be\n",
    "        eliminated (e.g. it's becomes its).  Leading and trailing spaces should be removed after\n",
    "        punctuation is removed.\n",
    "\n",
    "    Args:\n",
    "        texto (str): A string.\n",
    "\n",
    "    Returns:\n",
    "        str: The cleaned up string.\n",
    "    \"\"\"\n",
    "    return re.sub(r'[^A-Za-z0-9 ]', '', texto).strip().lower()\n",
    "print (removerPontuacao('Ola, quem esta ai??!'))\n",
    "print (removerPontuacao(' Sem espaco e_sublinhado!'))\n"
   ]
  },
  {
   "cell_type": "code",
   "execution_count": 108,
   "metadata": {},
   "outputs": [
    {
     "name": "stdout",
     "output_type": "stream",
     "text": [
      "OK\n"
     ]
    }
   ],
   "source": [
    "assert removerPontuacao(' O uso de virgulas, embora permitido, nao deve contar. ')=='o uso de virgulas embora permitido nao deve contar', 'string incorreta!'\n",
    "print (\"OK\")"
   ]
  },
  {
   "cell_type": "code",
   "execution_count": 111,
   "metadata": {},
   "outputs": [
    {
     "name": "stdout",
     "output_type": "stream",
     "text": [
      ": 0\n",
      "project gutenbergs the complete works of william shakespeare by william: 1\n",
      "shakespeare: 2\n",
      ": 3\n",
      "this ebook is for the use of anyone anywhere in the united states and: 4\n",
      "most other parts of the world at no cost and with almost no restrictions: 5\n",
      "whatsoever  you may copy it give it away or reuse it under the terms: 6\n",
      "of the project gutenberg license included with this ebook or online at: 7\n",
      "wwwgutenbergorg  if you are not located in the united states youll: 8\n",
      "have to check the laws of the country where you are located before using: 9\n",
      "this ebook: 10\n",
      ": 11\n",
      "see at the end of this file  content note added in 2017: 12\n",
      ": 13\n",
      ": 14\n"
     ]
    }
   ],
   "source": [
    "import os.path\n",
    "\n",
    "arquivo = os.path.join('', 'pg100.txt')\n",
    "\n",
    "shakesRDD = (sc\n",
    "             .textFile(arquivo, 8)\n",
    "             .map(removerPontuacao)\n",
    "            )\n",
    "\n",
    "print('\\n'.join(shakesRDD\n",
    "               .zipWithIndex()\n",
    "               .map(lambda linha: '{0}: {1}'.format(linha[0], linha[1]))\n",
    "               .take(15)\n",
    "               )\n",
    "     )"
   ]
  },
  {
   "cell_type": "code",
   "execution_count": 114,
   "metadata": {},
   "outputs": [
    {
     "name": "stdout",
     "output_type": "stream",
     "text": [
      "[[u''], [u'project', u'gutenbergs', u'the', u'complete', u'works', u'of', u'william', u'shakespeare', u'by', u'william'], [u'shakespeare'], [u''], [u'this', u'ebook', u'is', u'for', u'the', u'use', u'of', u'anyone', u'anywhere', u'in', u'the', u'united', u'states', u'and']]\n",
      "147929\n"
     ]
    }
   ],
   "source": [
    "shakesPalavrasRDD = shakesRDD.map(lambda x:x.split(' '))\n",
    "total = shakesPalavrasRDD.count()\n",
    "print(shakesPalavrasRDD.take(5))\n",
    "print(total)"
   ]
  },
  {
   "cell_type": "code",
   "execution_count": 115,
   "metadata": {},
   "outputs": [
    {
     "name": "stdout",
     "output_type": "stream",
     "text": [
      "[u'project', u'gutenbergs', u'the', u'complete', u'works']\n",
      "959359\n"
     ]
    }
   ],
   "source": [
    "shakesPalavrasRDD = shakesRDD.flatMap(lambda x: x.split())\n",
    "total = shakesPalavrasRDD.count()\n",
    "print(shakesPalavrasRDD.take(5))\n",
    "print(total)"
   ]
  },
  {
   "cell_type": "code",
   "execution_count": 116,
   "metadata": {},
   "outputs": [
    {
     "name": "stdout",
     "output_type": "stream",
     "text": [
      "OK\n",
      "OK\n"
     ]
    }
   ],
   "source": [
    "assert total==959359, \"valor incorreto de palavras!\"\n",
    "print (\"OK\")\n",
    "assert shakesPalavrasRDD.take(5)==['project', 'gutenbergs', 'the', 'complete', 'works'],'lista incorreta de palavras'\n",
    "print (\"OK\")"
   ]
  },
  {
   "cell_type": "code",
   "execution_count": 123,
   "metadata": {},
   "outputs": [
    {
     "name": "stdout",
     "output_type": "stream",
     "text": [
      "the: 29996\n",
      "and: 28353\n",
      "i: 21860\n",
      "to: 20885\n",
      "of: 18811\n",
      "a: 15992\n",
      "you: 14439\n",
      "my: 13191\n",
      "in: 12027\n",
      "that: 11782\n",
      "is: 9711\n",
      "not: 9068\n",
      "with: 8521\n",
      "me: 8271\n",
      "for: 8184\n"
     ]
    }
   ],
   "source": [
    "top15 = contaPalavras(shakesPalavrasRDD).takeOrdered(15, key = lambda x:-x[1])\n",
    "print('\\n'.join(map(lambda x: '{}: {}'.format(x[0], x[1]), top15)))\n"
   ]
  },
  {
   "cell_type": "code",
   "execution_count": 124,
   "metadata": {},
   "outputs": [
    {
     "name": "stdout",
     "output_type": "stream",
     "text": [
      "OK\n"
     ]
    }
   ],
   "source": [
    "assert top15 == [('the', 29996), ('and', 28353), ('i', 21860), ('to', 20885), ('of', 18811), ('a', 15992), ('you', 14439), ('my', 13191), ('in', 12027), ('that', 11782), ('is', 9711), ('not', 9068), ('with', 8521), ('me', 8271), ('for', 8184)],'valores incorretos!'\n",
    "print (\"OK\")"
   ]
  },
  {
   "cell_type": "code",
   "execution_count": 125,
   "metadata": {},
   "outputs": [],
   "source": [
    "import numpy as np\n",
    "\n",
    "def pNorm(p):\n",
    "    \"\"\"Generates a function to calculate the p-Norm between two points.\n",
    "    \n",
    "    Args:\n",
    "        p (int): The integer p\n",
    "        \n",
    "    Returns:\n",
    "        Dist: A function that calculates the p-Norm.\n",
    "    \"\"\"\n",
    "    \n",
    "    def Dist(x, y):\n",
    "        return np.power(np.power(np.abs(x - y), p).sum(), 1/float(p))\n",
    "    return Dist"
   ]
  },
  {
   "cell_type": "code",
   "execution_count": 126,
   "metadata": {},
   "outputs": [],
   "source": [
    "np.random.seed(42)\n",
    "numPointsRDD = sc.parallelize(enumerate(np.random.random(size=(10,100))))"
   ]
  },
  {
   "cell_type": "code",
   "execution_count": 138,
   "metadata": {},
   "outputs": [],
   "source": [
    "cartPointsRDD = numPointsRDD.cartesian(numPointsRDD)"
   ]
  },
  {
   "cell_type": "code",
   "execution_count": 139,
   "metadata": {},
   "outputs": [
    {
     "data": {
      "text/plain": [
       "[((0, array([0.37454012, 0.95071431, 0.73199394, 0.59865848, 0.15601864,\n",
       "          0.15599452, 0.05808361, 0.86617615, 0.60111501, 0.70807258,\n",
       "          0.02058449, 0.96990985, 0.83244264, 0.21233911, 0.18182497,\n",
       "          0.18340451, 0.30424224, 0.52475643, 0.43194502, 0.29122914,\n",
       "          0.61185289, 0.13949386, 0.29214465, 0.36636184, 0.45606998,\n",
       "          0.78517596, 0.19967378, 0.51423444, 0.59241457, 0.04645041,\n",
       "          0.60754485, 0.17052412, 0.06505159, 0.94888554, 0.96563203,\n",
       "          0.80839735, 0.30461377, 0.09767211, 0.68423303, 0.44015249,\n",
       "          0.12203823, 0.49517691, 0.03438852, 0.9093204 , 0.25877998,\n",
       "          0.66252228, 0.31171108, 0.52006802, 0.54671028, 0.18485446,\n",
       "          0.96958463, 0.77513282, 0.93949894, 0.89482735, 0.59789998,\n",
       "          0.92187424, 0.0884925 , 0.19598286, 0.04522729, 0.32533033,\n",
       "          0.38867729, 0.27134903, 0.82873751, 0.35675333, 0.28093451,\n",
       "          0.54269608, 0.14092422, 0.80219698, 0.07455064, 0.98688694,\n",
       "          0.77224477, 0.19871568, 0.00552212, 0.81546143, 0.70685734,\n",
       "          0.72900717, 0.77127035, 0.07404465, 0.35846573, 0.11586906,\n",
       "          0.86310343, 0.62329813, 0.33089802, 0.06355835, 0.31098232,\n",
       "          0.32518332, 0.72960618, 0.63755747, 0.88721274, 0.47221493,\n",
       "          0.11959425, 0.71324479, 0.76078505, 0.5612772 , 0.77096718,\n",
       "          0.4937956 , 0.52273283, 0.42754102, 0.02541913, 0.10789143])),\n",
       "  (0, array([0.37454012, 0.95071431, 0.73199394, 0.59865848, 0.15601864,\n",
       "          0.15599452, 0.05808361, 0.86617615, 0.60111501, 0.70807258,\n",
       "          0.02058449, 0.96990985, 0.83244264, 0.21233911, 0.18182497,\n",
       "          0.18340451, 0.30424224, 0.52475643, 0.43194502, 0.29122914,\n",
       "          0.61185289, 0.13949386, 0.29214465, 0.36636184, 0.45606998,\n",
       "          0.78517596, 0.19967378, 0.51423444, 0.59241457, 0.04645041,\n",
       "          0.60754485, 0.17052412, 0.06505159, 0.94888554, 0.96563203,\n",
       "          0.80839735, 0.30461377, 0.09767211, 0.68423303, 0.44015249,\n",
       "          0.12203823, 0.49517691, 0.03438852, 0.9093204 , 0.25877998,\n",
       "          0.66252228, 0.31171108, 0.52006802, 0.54671028, 0.18485446,\n",
       "          0.96958463, 0.77513282, 0.93949894, 0.89482735, 0.59789998,\n",
       "          0.92187424, 0.0884925 , 0.19598286, 0.04522729, 0.32533033,\n",
       "          0.38867729, 0.27134903, 0.82873751, 0.35675333, 0.28093451,\n",
       "          0.54269608, 0.14092422, 0.80219698, 0.07455064, 0.98688694,\n",
       "          0.77224477, 0.19871568, 0.00552212, 0.81546143, 0.70685734,\n",
       "          0.72900717, 0.77127035, 0.07404465, 0.35846573, 0.11586906,\n",
       "          0.86310343, 0.62329813, 0.33089802, 0.06355835, 0.31098232,\n",
       "          0.32518332, 0.72960618, 0.63755747, 0.88721274, 0.47221493,\n",
       "          0.11959425, 0.71324479, 0.76078505, 0.5612772 , 0.77096718,\n",
       "          0.4937956 , 0.52273283, 0.42754102, 0.02541913, 0.10789143])))]"
      ]
     },
     "execution_count": 139,
     "metadata": {},
     "output_type": "execute_result"
    }
   ],
   "source": [
    "cartPointsRDD.take(1)"
   ]
  },
  {
   "cell_type": "code",
   "execution_count": 142,
   "metadata": {},
   "outputs": [],
   "source": [
    "cartPointsParesRDD = cartPointsRDD.map(lambda x:((x[0][0],x[1][0]),(x[0][1],x[1][1])))"
   ]
  },
  {
   "cell_type": "code",
   "execution_count": 143,
   "metadata": {},
   "outputs": [
    {
     "data": {
      "text/plain": [
       "[((0, 0), (array([0.37454012, 0.95071431, 0.73199394, 0.59865848, 0.15601864,\n",
       "          0.15599452, 0.05808361, 0.86617615, 0.60111501, 0.70807258,\n",
       "          0.02058449, 0.96990985, 0.83244264, 0.21233911, 0.18182497,\n",
       "          0.18340451, 0.30424224, 0.52475643, 0.43194502, 0.29122914,\n",
       "          0.61185289, 0.13949386, 0.29214465, 0.36636184, 0.45606998,\n",
       "          0.78517596, 0.19967378, 0.51423444, 0.59241457, 0.04645041,\n",
       "          0.60754485, 0.17052412, 0.06505159, 0.94888554, 0.96563203,\n",
       "          0.80839735, 0.30461377, 0.09767211, 0.68423303, 0.44015249,\n",
       "          0.12203823, 0.49517691, 0.03438852, 0.9093204 , 0.25877998,\n",
       "          0.66252228, 0.31171108, 0.52006802, 0.54671028, 0.18485446,\n",
       "          0.96958463, 0.77513282, 0.93949894, 0.89482735, 0.59789998,\n",
       "          0.92187424, 0.0884925 , 0.19598286, 0.04522729, 0.32533033,\n",
       "          0.38867729, 0.27134903, 0.82873751, 0.35675333, 0.28093451,\n",
       "          0.54269608, 0.14092422, 0.80219698, 0.07455064, 0.98688694,\n",
       "          0.77224477, 0.19871568, 0.00552212, 0.81546143, 0.70685734,\n",
       "          0.72900717, 0.77127035, 0.07404465, 0.35846573, 0.11586906,\n",
       "          0.86310343, 0.62329813, 0.33089802, 0.06355835, 0.31098232,\n",
       "          0.32518332, 0.72960618, 0.63755747, 0.88721274, 0.47221493,\n",
       "          0.11959425, 0.71324479, 0.76078505, 0.5612772 , 0.77096718,\n",
       "          0.4937956 , 0.52273283, 0.42754102, 0.02541913, 0.10789143]),\n",
       "   array([0.37454012, 0.95071431, 0.73199394, 0.59865848, 0.15601864,\n",
       "          0.15599452, 0.05808361, 0.86617615, 0.60111501, 0.70807258,\n",
       "          0.02058449, 0.96990985, 0.83244264, 0.21233911, 0.18182497,\n",
       "          0.18340451, 0.30424224, 0.52475643, 0.43194502, 0.29122914,\n",
       "          0.61185289, 0.13949386, 0.29214465, 0.36636184, 0.45606998,\n",
       "          0.78517596, 0.19967378, 0.51423444, 0.59241457, 0.04645041,\n",
       "          0.60754485, 0.17052412, 0.06505159, 0.94888554, 0.96563203,\n",
       "          0.80839735, 0.30461377, 0.09767211, 0.68423303, 0.44015249,\n",
       "          0.12203823, 0.49517691, 0.03438852, 0.9093204 , 0.25877998,\n",
       "          0.66252228, 0.31171108, 0.52006802, 0.54671028, 0.18485446,\n",
       "          0.96958463, 0.77513282, 0.93949894, 0.89482735, 0.59789998,\n",
       "          0.92187424, 0.0884925 , 0.19598286, 0.04522729, 0.32533033,\n",
       "          0.38867729, 0.27134903, 0.82873751, 0.35675333, 0.28093451,\n",
       "          0.54269608, 0.14092422, 0.80219698, 0.07455064, 0.98688694,\n",
       "          0.77224477, 0.19871568, 0.00552212, 0.81546143, 0.70685734,\n",
       "          0.72900717, 0.77127035, 0.07404465, 0.35846573, 0.11586906,\n",
       "          0.86310343, 0.62329813, 0.33089802, 0.06355835, 0.31098232,\n",
       "          0.32518332, 0.72960618, 0.63755747, 0.88721274, 0.47221493,\n",
       "          0.11959425, 0.71324479, 0.76078505, 0.5612772 , 0.77096718,\n",
       "          0.4937956 , 0.52273283, 0.42754102, 0.02541913, 0.10789143])))]"
      ]
     },
     "execution_count": 143,
     "metadata": {},
     "output_type": "execute_result"
    }
   ],
   "source": [
    "cartPointsParesRDD.take(1)"
   ]
  },
  {
   "cell_type": "code",
   "execution_count": 162,
   "metadata": {},
   "outputs": [],
   "source": [
    "Euclid = pNorm(2)"
   ]
  },
  {
   "cell_type": "code",
   "execution_count": 174,
   "metadata": {},
   "outputs": [],
   "source": [
    "distRDD = cartPointsParesRDD.map(lambda x:(x[0], Euclid(x[1][0],x[1][1])))"
   ]
  },
  {
   "cell_type": "code",
   "execution_count": 178,
   "metadata": {},
   "outputs": [],
   "source": [
    "statRDD = distRDD.map(lambda x: x[1])"
   ]
  },
  {
   "cell_type": "code",
   "execution_count": 179,
   "metadata": {},
   "outputs": [],
   "source": [
    "minv, maxv, meanv = statRDD.min(), statRDD.max(), statRDD.mean()"
   ]
  },
  {
   "cell_type": "code",
   "execution_count": 180,
   "metadata": {},
   "outputs": [
    {
     "name": "stdout",
     "output_type": "stream",
     "text": [
      "(0.0, 4.709048183663605, 3.7511916889753705)\n"
     ]
    }
   ],
   "source": [
    "print(minv, maxv, meanv)"
   ]
  },
  {
   "cell_type": "code",
   "execution_count": 181,
   "metadata": {},
   "outputs": [
    {
     "name": "stdout",
     "output_type": "stream",
     "text": [
      "OK\n"
     ]
    }
   ],
   "source": [
    "assert (minv.round(2), maxv.round(2), meanv.round(2))==(0.0, 4.71, 3.75), 'Valores incorretos'\n",
    "print (\"OK\")"
   ]
  },
  {
   "cell_type": "code",
   "execution_count": null,
   "metadata": {},
   "outputs": [],
   "source": []
  }
 ],
 "metadata": {
  "kernelspec": {
   "display_name": "Python 2",
   "language": "python",
   "name": "python2"
  },
  "language_info": {
   "codemirror_mode": {
    "name": "ipython",
    "version": 2
   },
   "file_extension": ".py",
   "mimetype": "text/x-python",
   "name": "python",
   "nbconvert_exporter": "python",
   "pygments_lexer": "ipython2",
   "version": "2.7.14"
  }
 },
 "nbformat": 4,
 "nbformat_minor": 2
}
